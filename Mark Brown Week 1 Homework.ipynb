{
 "cells": [
  {
   "cell_type": "markdown",
   "metadata": {},
   "source": [
    "This is homework assignment #1. Please use this file to write code and submit separate file with answers provided."
   ]
  },
  {
   "cell_type": "markdown",
   "metadata": {},
   "source": [
    "1 Set $X = \\sqrt{17}$ rounded to the nearest digit. Print the message using the variable \"Approximate square root of 17 is X\". Where X is the variable."
   ]
  },
  {
   "cell_type": "code",
   "execution_count": 1,
   "metadata": {},
   "outputs": [
    {
     "name": "stdout",
     "output_type": "stream",
     "text": [
      "Approximate square root of 17 is 4.0\n"
     ]
    }
   ],
   "source": [
    "import numpy as np\n",
    "import pandas as pd\n",
    "X = round(np.sqrt(17))\n",
    "print(\"Approximate square root of 17 is\", X)"
   ]
  },
  {
   "cell_type": "markdown",
   "metadata": {},
   "source": [
    "2 Covert all words to lowcase and drop all numbers and punctiation from the string.\n",
    "S = \"(1) An official wants to multiply subordinates, not rivals and (2) Officials make work for each other. [Parkinson] notes in particular that the total of those employed inside a bureaucracy rose by 5-7% per year irrespective of any variation in the amount of work (if any) to be done.”"
   ]
  },
  {
   "cell_type": "code",
   "execution_count": 79,
   "metadata": {},
   "outputs": [
    {
     "name": "stdout",
     "output_type": "stream",
     "text": [
      " an official wants to multiply subordinates not rivals and  officials make work for each other parkinson notes in particular that the total of those employed inside a bureaucracy rose by  per year irrespective of any variation in the amount of work if any to be done\n"
     ]
    }
   ],
   "source": [
    "import string\n",
    "dir(string)\n",
    "S = \"(1) An official wants to multiply subordinates, not rivals and (2) Officials make work for each other. [Parkinson] notes in particular that the total of those employed inside a bureaucracy rose by 5-7% per year irrespective of any variation in the amount of work (if any) to be done.\"\n",
    "lower = S.lower()\n",
    "#letters_only = filter(S.isalpha(), S)\n",
    "words_only = ''.join(i for i in lower if i.isalpha() or i.isspace() )\n",
    "print(words_only)\n",
    "\n"
   ]
  },
  {
   "cell_type": "code",
   "execution_count": 102,
   "metadata": {},
   "outputs": [
    {
     "name": "stdout",
     "output_type": "stream",
     "text": [
      "\n",
      "\n",
      "\n",
      "\n",
      "a\n",
      "n\n",
      "\n",
      "o\n",
      "f\n",
      "f\n",
      "i\n",
      "c\n",
      "i\n",
      "a\n",
      "l\n",
      "\n",
      "w\n",
      "a\n",
      "n\n",
      "t\n",
      "s\n",
      "\n",
      "t\n",
      "o\n",
      "\n",
      "m\n",
      "u\n",
      "l\n",
      "t\n",
      "i\n",
      "p\n",
      "l\n",
      "y\n",
      "\n",
      "s\n",
      "u\n",
      "b\n",
      "o\n",
      "r\n",
      "d\n",
      "i\n",
      "n\n",
      "a\n",
      "t\n",
      "e\n",
      "s\n",
      "\n",
      "\n",
      "n\n",
      "o\n",
      "t\n",
      "\n",
      "r\n",
      "i\n",
      "v\n",
      "a\n",
      "l\n",
      "s\n",
      "\n",
      "a\n",
      "n\n",
      "d\n",
      "\n",
      "\n",
      "\n",
      "\n",
      "\n",
      "o\n",
      "f\n",
      "f\n",
      "i\n",
      "c\n",
      "i\n",
      "a\n",
      "l\n",
      "s\n",
      "\n",
      "m\n",
      "a\n",
      "k\n",
      "e\n",
      "\n",
      "w\n",
      "o\n",
      "r\n",
      "k\n",
      "\n",
      "f\n",
      "o\n",
      "r\n",
      "\n",
      "e\n",
      "a\n",
      "c\n",
      "h\n",
      "\n",
      "o\n",
      "t\n",
      "h\n",
      "e\n",
      "r\n",
      "\n",
      "\n",
      "\n",
      "p\n",
      "a\n",
      "r\n",
      "k\n",
      "i\n",
      "n\n",
      "s\n",
      "o\n",
      "n\n",
      "\n",
      "\n",
      "n\n",
      "o\n",
      "t\n",
      "e\n",
      "s\n",
      "\n",
      "i\n",
      "n\n",
      "\n",
      "p\n",
      "a\n",
      "r\n",
      "t\n",
      "i\n",
      "c\n",
      "u\n",
      "l\n",
      "a\n",
      "r\n",
      "\n",
      "t\n",
      "h\n",
      "a\n",
      "t\n",
      "\n",
      "t\n",
      "h\n",
      "e\n",
      "\n",
      "t\n",
      "o\n",
      "t\n",
      "a\n",
      "l\n",
      "\n",
      "o\n",
      "f\n",
      "\n",
      "t\n",
      "h\n",
      "o\n",
      "s\n",
      "e\n",
      "\n",
      "e\n",
      "m\n",
      "p\n",
      "l\n",
      "o\n",
      "y\n",
      "e\n",
      "d\n",
      "\n",
      "i\n",
      "n\n",
      "s\n",
      "i\n",
      "d\n",
      "e\n",
      "\n",
      "a\n",
      "\n",
      "b\n",
      "u\n",
      "r\n",
      "e\n",
      "a\n",
      "u\n",
      "c\n",
      "r\n",
      "a\n",
      "c\n",
      "y\n",
      "\n",
      "r\n",
      "o\n",
      "s\n",
      "e\n",
      "\n",
      "b\n",
      "y\n",
      "\n",
      "\n",
      "\n",
      "\n",
      "\n",
      "\n",
      "p\n",
      "e\n",
      "r\n",
      "\n",
      "y\n",
      "e\n",
      "a\n",
      "r\n",
      "\n",
      "i\n",
      "r\n",
      "r\n",
      "e\n",
      "s\n",
      "p\n",
      "e\n",
      "c\n",
      "t\n",
      "i\n",
      "v\n",
      "e\n",
      "\n",
      "o\n",
      "f\n",
      "\n",
      "a\n",
      "n\n",
      "y\n",
      "\n",
      "v\n",
      "a\n",
      "r\n",
      "i\n",
      "a\n",
      "t\n",
      "i\n",
      "o\n",
      "n\n",
      "\n",
      "i\n",
      "n\n",
      "\n",
      "t\n",
      "h\n",
      "e\n",
      "\n",
      "a\n",
      "m\n",
      "o\n",
      "u\n",
      "n\n",
      "t\n",
      "\n",
      "o\n",
      "f\n",
      "\n",
      "w\n",
      "o\n",
      "r\n",
      "k\n",
      "\n",
      "\n",
      "i\n",
      "f\n",
      "\n",
      "a\n",
      "n\n",
      "y\n",
      "\n",
      "\n",
      "t\n",
      "o\n",
      "\n",
      "b\n",
      "e\n",
      "\n",
      "d\n",
      "o\n",
      "n\n",
      "e\n",
      "\n"
     ]
    }
   ],
   "source": [
    "#another way to do it...but it doesn't print out in a useful format\n",
    "for i in lower:\n",
    "    if i.replace(' ','').isalpha():\n",
    "        print(i)\n",
    "    else:\n",
    "        print(\"\")\n",
    "    \n"
   ]
  },
  {
   "cell_type": "markdown",
   "metadata": {
    "collapsed": true
   },
   "source": [
    "3 Create a list of vegetables : carrot, potato, tomato, cabbage. Extract the first and last vegetable into another list. "
   ]
  },
  {
   "cell_type": "code",
   "execution_count": 35,
   "metadata": {},
   "outputs": [
    {
     "name": "stdout",
     "output_type": "stream",
     "text": [
      "['carrot', 'cabbage']\n"
     ]
    }
   ],
   "source": [
    "L = ['carrot', 'potato', 'tomato', 'cabbage']\n",
    "F = [L[0],L[3]]\n",
    "print(F)"
   ]
  },
  {
   "cell_type": "markdown",
   "metadata": {},
   "source": [
    "4  Create a vector from 0 to 9, extract elements on positions 2-4, and  on positions 7-9 into a another vector     "
   ]
  },
  {
   "cell_type": "code",
   "execution_count": 36,
   "metadata": {},
   "outputs": [
    {
     "name": "stdout",
     "output_type": "stream",
     "text": [
      "[2, 3, 4, 7, 8, 9]\n"
     ]
    }
   ],
   "source": [
    "num = [0,1,2,3,4,5,6,7,8,9]\n",
    "first = num[2:5]\n",
    "second = num[7:10]\n",
    "answer= first + second\n",
    "print(answer)"
   ]
  },
  {
   "cell_type": "markdown",
   "metadata": {},
   "source": [
    "5 Create a vector of squared number from 3 to 13 using a loop, extract the smallest, the largest number and the lenght of the vector."
   ]
  },
  {
   "cell_type": "code",
   "execution_count": 37,
   "metadata": {},
   "outputs": [
    {
     "name": "stdout",
     "output_type": "stream",
     "text": [
      "Min 9 Max 169 Length 11\n"
     ]
    }
   ],
   "source": [
    "nums = []\n",
    "for i in range(3, 14):\n",
    "    nums.append(i*i)\n",
    "print(\"Min\", min(nums),\"Max\", max(nums), \"Length\", len(nums))\n",
    "\n"
   ]
  },
  {
   "cell_type": "markdown",
   "metadata": {},
   "source": [
    "6 Create a vector from  2 to 13, and a vector from 56 to 59. Then insert the second list in the position 5 of the first."
   ]
  },
  {
   "cell_type": "code",
   "execution_count": 38,
   "metadata": {},
   "outputs": [
    {
     "name": "stdout",
     "output_type": "stream",
     "text": [
      "[2, 3, 4, 5, 56, 57, 58, 59, 7, 8, 9, 10, 11, 12, 13]\n"
     ]
    }
   ],
   "source": [
    "one= np.arange(2,14)\n",
    "o=one.tolist()\n",
    "\n",
    "two = np.arange(56,60)\n",
    "t=two.tolist()\n",
    "\n",
    "three = o[0:4]+ t + o[5:]\n",
    "\n",
    "print(three)\n"
   ]
  },
  {
   "cell_type": "markdown",
   "metadata": {},
   "source": [
    "7 Loop over the number from 17 to 36. Set up a condition under which you print the current looping number and print if it is even or odd."
   ]
  },
  {
   "cell_type": "code",
   "execution_count": 39,
   "metadata": {},
   "outputs": [
    {
     "name": "stdout",
     "output_type": "stream",
     "text": [
      "17 Odd\n",
      "18 Even\n",
      "19 Odd\n",
      "20 Even\n",
      "21 Odd\n",
      "22 Even\n",
      "23 Odd\n",
      "24 Even\n",
      "25 Odd\n",
      "26 Even\n",
      "27 Odd\n",
      "28 Even\n",
      "29 Odd\n",
      "30 Even\n",
      "31 Odd\n",
      "32 Even\n",
      "33 Odd\n",
      "34 Even\n",
      "35 Odd\n",
      "36 Even\n"
     ]
    }
   ],
   "source": [
    "for i in range(17,37):    \n",
    "    if i % 2 == 0: print(i, \"Even\")\n",
    "    else: print(i, \"Odd\")"
   ]
  },
  {
   "cell_type": "markdown",
   "metadata": {},
   "source": [
    "8 Create a function that transforms an argument. First is takes a square root of the argument, then it adds 5, finally divides it by 7. Run the example with argument x = 5"
   ]
  },
  {
   "cell_type": "code",
   "execution_count": 40,
   "metadata": {},
   "outputs": [
    {
     "data": {
      "text/plain": [
       "1.0337239967856842"
      ]
     },
     "execution_count": 40,
     "metadata": {},
     "output_type": "execute_result"
    }
   ],
   "source": [
    "def function(x):\n",
    "    a=(np.sqrt(x)+5)/7\n",
    "    return(a)\n",
    "\n",
    "function(5)"
   ]
  },
  {
   "cell_type": "markdown",
   "metadata": {
    "collapsed": true
   },
   "source": [
    "9 Create a 3x3 matrix with elements from 1 to 9 and add a row to the bottom of the matrix with number 11 13 15. "
   ]
  },
  {
   "cell_type": "code",
   "execution_count": 46,
   "metadata": {},
   "outputs": [
    {
     "name": "stdout",
     "output_type": "stream",
     "text": [
      "[[1 2 3]\n",
      " [4 5 6]\n",
      " [7 8 9]] Matrix\n",
      "[[ 1  2  3]\n",
      " [ 4  5  6]\n",
      " [ 7  8  9]\n",
      " [11 13 15]] Bigger Matrix\n"
     ]
    }
   ],
   "source": [
    "matrix= np.arange(1,10).reshape(3,3)\n",
    "matrix= np.asmatrix(matrix)\n",
    "y = [11,13,15]\n",
    "new_matrix=np.vstack([matrix, y])\n",
    "print(matrix,\"Matrix\")\n",
    "print( new_matrix,\"Bigger Matrix\")"
   ]
  },
  {
   "cell_type": "code",
   "execution_count": null,
   "metadata": {},
   "outputs": [],
   "source": []
  },
  {
   "cell_type": "code",
   "execution_count": null,
   "metadata": {},
   "outputs": [],
   "source": []
  }
 ],
 "metadata": {
  "kernelspec": {
   "display_name": "Python 3",
   "language": "python",
   "name": "python3"
  },
  "language_info": {
   "codemirror_mode": {
    "name": "ipython",
    "version": 3
   },
   "file_extension": ".py",
   "mimetype": "text/x-python",
   "name": "python",
   "nbconvert_exporter": "python",
   "pygments_lexer": "ipython3",
   "version": "3.6.4"
  }
 },
 "nbformat": 4,
 "nbformat_minor": 2
}
